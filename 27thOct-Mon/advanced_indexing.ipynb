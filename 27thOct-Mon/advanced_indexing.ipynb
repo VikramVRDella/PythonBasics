{
 "cells": [
  {
   "cell_type": "code",
   "execution_count": 1,
   "id": "57a4fd43",
   "metadata": {},
   "outputs": [],
   "source": [
    "import numpy as np"
   ]
  },
  {
   "cell_type": "code",
   "execution_count": 3,
   "id": "f07cd267",
   "metadata": {},
   "outputs": [
    {
     "name": "stdout",
     "output_type": "stream",
     "text": [
      "[2 5 6]\n"
     ]
    }
   ],
   "source": [
    "a=np.arange(1,10)\n",
    "index=np.array([1,4,5])\n",
    "print(a[index])"
   ]
  },
  {
   "cell_type": "code",
   "execution_count": 5,
   "id": "23bde3dd",
   "metadata": {},
   "outputs": [
    {
     "data": {
      "text/plain": [
       "array([3, 7])"
      ]
     },
     "execution_count": 5,
     "metadata": {},
     "output_type": "execute_result"
    }
   ],
   "source": [
    "b=np.array(\n",
    "    [\n",
    "        [1,2,3],[4,5,6],[7,8,9]\n",
    "    ]\n",
    ")\n",
    "b[[0,2],[2,0]]"
   ]
  },
  {
   "cell_type": "code",
   "execution_count": 8,
   "id": "1944f5b8",
   "metadata": {},
   "outputs": [
    {
     "name": "stdout",
     "output_type": "stream",
     "text": [
      "[ -8 -20]\n",
      "[1 2 5]\n"
     ]
    }
   ],
   "source": [
    "c=np.array([1,2,-4,5,-10])\n",
    "print(c[c<0]*2)\n",
    "print(c[c>0])"
   ]
  },
  {
   "cell_type": "code",
   "execution_count": null,
   "id": "d5b898bf",
   "metadata": {},
   "outputs": [],
   "source": []
  }
 ],
 "metadata": {
  "kernelspec": {
   "display_name": "Python 3",
   "language": "python",
   "name": "python3"
  },
  "language_info": {
   "codemirror_mode": {
    "name": "ipython",
    "version": 3
   },
   "file_extension": ".py",
   "mimetype": "text/x-python",
   "name": "python",
   "nbconvert_exporter": "python",
   "pygments_lexer": "ipython3",
   "version": "3.14.0"
  }
 },
 "nbformat": 4,
 "nbformat_minor": 5
}

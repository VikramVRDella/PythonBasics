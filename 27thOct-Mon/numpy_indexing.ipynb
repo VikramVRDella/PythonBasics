{
 "cells": [
  {
   "cell_type": "code",
   "execution_count": 2,
   "id": "32eb0a46",
   "metadata": {},
   "outputs": [],
   "source": [
    "import numpy as np"
   ]
  },
  {
   "cell_type": "code",
   "execution_count": 3,
   "id": "bcce948c",
   "metadata": {},
   "outputs": [
    {
     "name": "stdout",
     "output_type": "stream",
     "text": [
      "1\n"
     ]
    }
   ],
   "source": [
    "a=np.array(\n",
    "    [1,2,3,4,5]\n",
    ")\n",
    "print(a[0])"
   ]
  },
  {
   "cell_type": "code",
   "execution_count": null,
   "id": "994f3ac2",
   "metadata": {},
   "outputs": [
    {
     "name": "stdout",
     "output_type": "stream",
     "text": [
      "4\n"
     ]
    }
   ],
   "source": [
    "b=np.array(\n",
    "    [\n",
    "        [1,2],\n",
    "        [3,4],\n",
    "        [5,6]\n",
    "    ]\n",
    ")\n",
    "\n",
    "print(b[1][1])"
   ]
  },
  {
   "cell_type": "code",
   "execution_count": 8,
   "id": "2d17044b",
   "metadata": {},
   "outputs": [
    {
     "name": "stdout",
     "output_type": "stream",
     "text": [
      "[[[ 1  2  3  4]\n",
      "  [ 5  6  7  8]\n",
      "  [ 9 20 11 22]]\n",
      "\n",
      " [[10 12 14 15]\n",
      "  [16 17 18 19]\n",
      "  [21 23 24 25]]]\n",
      "24\n"
     ]
    }
   ],
   "source": [
    "c=[[[1,2,3,4],[5,6,7,8],[9,20,11,22]],[[10,12,14,15],[16,17,18,19],[21,23,24,25]]]\n",
    "d=np.array(c)\n",
    "print(d)\n",
    "print(d[1][2][2])"
   ]
  },
  {
   "cell_type": "code",
   "execution_count": 12,
   "id": "9b326d24",
   "metadata": {},
   "outputs": [
    {
     "name": "stdout",
     "output_type": "stream",
     "text": [
      "[3 4 5]\n",
      "[1 2]\n",
      "[1 3 5]\n"
     ]
    }
   ],
   "source": [
    "e=np.array([1,2,3,4,5])\n",
    "print(e[2:])\n",
    "print(e[:2])\n",
    "print(e[::2])"
   ]
  },
  {
   "cell_type": "code",
   "execution_count": 15,
   "id": "09d4b31b",
   "metadata": {},
   "outputs": [
    {
     "name": "stdout",
     "output_type": "stream",
     "text": [
      "[[4]\n",
      " [6]]\n"
     ]
    }
   ],
   "source": [
    "f=np.array(\n",
    "    [\n",
    "        [1,2],\n",
    "        [3,4],\n",
    "        [5,6]\n",
    "    ]\n",
    ")\n",
    "print(f[1:,1:])"
   ]
  },
  {
   "cell_type": "code",
   "execution_count": 31,
   "id": "3eaa5616",
   "metadata": {},
   "outputs": [
    {
     "name": "stdout",
     "output_type": "stream",
     "text": [
      "[[ 1  2  3  4]\n",
      " [ 5  6  7  8]\n",
      " [ 9 10 11 12]]\n",
      "[[1]\n",
      " [5]\n",
      " [9]]\n"
     ]
    }
   ],
   "source": [
    "n=np.array(\n",
    "    [\n",
    "        [1,2,3,4],\n",
    "        [5,6,7,8],\n",
    "        [9,10,11,12]\n",
    "    ]\n",
    ")\n",
    "print(n)\n",
    "print(n[:,:1])"
   ]
  },
  {
   "cell_type": "code",
   "execution_count": 33,
   "id": "5eec90d2",
   "metadata": {},
   "outputs": [
    {
     "name": "stdout",
     "output_type": "stream",
     "text": [
      "[[[ 1  2  3  4]\n",
      "  [ 5  6  7  8]\n",
      "  [ 9 10 11 12]]\n",
      "\n",
      " [[13 14 15 16]\n",
      "  [17 18 19 20]\n",
      "  [21 22 23 24]]]\n",
      "[[[ 1]\n",
      "  [ 5]\n",
      "  [ 9]]\n",
      "\n",
      " [[13]\n",
      "  [17]\n",
      "  [21]]]\n",
      "[[[ 5  7]\n",
      "  [ 9 11]]\n",
      "\n",
      " [[17 19]\n",
      "  [21 23]]]\n"
     ]
    }
   ],
   "source": [
    "h=[[[1,2,3,4],[5,6,7,8],[9,10,11,12]],[[13,14,15,16],[17,18,19,20],[21,22,23,24]]]\n",
    "i=np.array(h)\n",
    "print(i)\n",
    "print(i[:,:,0:1])\n",
    "print(i[:,1:,::2])"
   ]
  }
 ],
 "metadata": {
  "kernelspec": {
   "display_name": "Python 3",
   "language": "python",
   "name": "python3"
  },
  "language_info": {
   "codemirror_mode": {
    "name": "ipython",
    "version": 3
   },
   "file_extension": ".py",
   "mimetype": "text/x-python",
   "name": "python",
   "nbconvert_exporter": "python",
   "pygments_lexer": "ipython3",
   "version": "3.14.0"
  }
 },
 "nbformat": 4,
 "nbformat_minor": 5
}

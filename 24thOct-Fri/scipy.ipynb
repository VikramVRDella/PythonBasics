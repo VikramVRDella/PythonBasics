{
 "cells": [
  {
   "cell_type": "code",
   "execution_count": 8,
   "id": "82fbf28a",
   "metadata": {},
   "outputs": [
    {
     "name": "stdout",
     "output_type": "stream",
     "text": [
      "Requirement already satisfied: scipy in c:\\users\\hp\\appdata\\local\\python\\pythoncore-3.14-64\\lib\\site-packages (1.16.2)\n",
      "Requirement already satisfied: numpy in c:\\users\\hp\\appdata\\local\\python\\pythoncore-3.14-64\\lib\\site-packages (2.3.4)\n",
      "Note: you may need to restart the kernel to use updated packages.\n"
     ]
    }
   ],
   "source": [
    "pip install scipy numpy"
   ]
  },
  {
   "cell_type": "code",
   "execution_count": 4,
   "id": "d59d53e3",
   "metadata": {},
   "outputs": [
    {
     "name": "stdout",
     "output_type": "stream",
     "text": [
      "0.001\n",
      "3.141592653589793\n",
      "['Avogadro', 'Boltzmann', 'Btu', 'Btu_IT', 'Btu_th', 'ConstantWarning', 'G', 'Julian_year', 'N_A', 'Planck', 'R', 'Rydberg', 'Stefan_Boltzmann', 'Wien', '__all__', '__builtins__', '__cached__', '__doc__', '__file__', '__loader__', '__name__', '__package__', '__path__', '__spec__', '_codata', '_constants', '_obsolete_constants', 'acre', 'alpha', 'angstrom', 'arcmin', 'arcminute', 'arcsec', 'arcsecond', 'astronomical_unit', 'atm', 'atmosphere', 'atomic_mass', 'atto', 'au', 'bar', 'barrel', 'bbl', 'blob', 'c', 'calorie', 'calorie_IT', 'calorie_th', 'carat', 'centi', 'codata', 'constants', 'convert_temperature', 'day', 'deci', 'degree', 'degree_Fahrenheit', 'deka', 'dyn', 'dyne', 'e', 'eV', 'electron_mass', 'electron_volt', 'elementary_charge', 'epsilon_0', 'erg', 'exa', 'exbi', 'femto', 'fermi', 'find', 'fine_structure', 'fluid_ounce', 'fluid_ounce_US', 'fluid_ounce_imp', 'foot', 'g', 'gallon', 'gallon_US', 'gallon_imp', 'gas_constant', 'gibi', 'giga', 'golden', 'golden_ratio', 'grain', 'gram', 'gravitational_constant', 'h', 'hbar', 'hectare', 'hecto', 'horsepower', 'hour', 'hp', 'inch', 'k', 'kgf', 'kibi', 'kilo', 'kilogram_force', 'kmh', 'knot', 'lambda2nu', 'lb', 'lbf', 'light_year', 'liter', 'litre', 'long_ton', 'm_e', 'm_n', 'm_p', 'm_u', 'mach', 'mebi', 'mega', 'metric_ton', 'micro', 'micron', 'mil', 'mile', 'milli', 'minute', 'mmHg', 'mph', 'mu_0', 'nano', 'nautical_mile', 'neutron_mass', 'nu2lambda', 'ounce', 'oz', 'parsec', 'pebi', 'peta', 'physical_constants', 'pi', 'pico', 'point', 'pound', 'pound_force', 'precision', 'proton_mass', 'psi', 'pt', 'quecto', 'quetta', 'ronna', 'ronto', 'short_ton', 'sigma', 'slinch', 'slug', 'speed_of_light', 'speed_of_sound', 'stone', 'survey_foot', 'survey_mile', 'tebi', 'tera', 'test', 'ton_TNT', 'torr', 'troy_ounce', 'troy_pound', 'u', 'unit', 'value', 'week', 'yard', 'year', 'yobi', 'yocto', 'yotta', 'zebi', 'zepto', 'zero_Celsius', 'zetta']\n"
     ]
    }
   ],
   "source": [
    "'''\n",
    "constants in Scipy\n",
    "'''\n",
    "from scipy import constants\n",
    "\n",
    "print(constants.liter)\n",
    "print(constants.pi)\n",
    "print(dir(constants))"
   ]
  },
  {
   "cell_type": "code",
   "execution_count": 5,
   "id": "c72ce555",
   "metadata": {},
   "outputs": [
    {
     "name": "stdout",
     "output_type": "stream",
     "text": [
      "1e+21\n",
      "1e-21\n"
     ]
    }
   ],
   "source": [
    "'''\n",
    "Metric Preferences....\n",
    "'''\n",
    "print(constants.zetta)\n",
    "print(constants.zepto)"
   ]
  },
  {
   "cell_type": "code",
   "execution_count": 6,
   "id": "6b333fe1",
   "metadata": {},
   "outputs": [
    {
     "name": "stdout",
     "output_type": "stream",
     "text": [
      "1024\n",
      "1048576\n"
     ]
    }
   ],
   "source": [
    "'''\n",
    "Binary Prefernces.....\n",
    "'''\n",
    "print(constants.kibi)\n",
    "print(constants.mebi)"
   ]
  },
  {
   "cell_type": "code",
   "execution_count": 7,
   "id": "cc6d2fd8",
   "metadata": {},
   "outputs": [
    {
     "name": "stdout",
     "output_type": "stream",
     "text": [
      "1000.0\n",
      "0.001\n"
     ]
    }
   ],
   "source": [
    "'''\n",
    "Mass Values....\n",
    "'''\n",
    "print(constants.metric_ton)\n",
    "print(constants.gram)"
   ]
  },
  {
   "cell_type": "code",
   "execution_count": 12,
   "id": "62dd964e",
   "metadata": {},
   "outputs": [
    {
     "name": "stdout",
     "output_type": "stream",
     "text": [
      "[1 2 3] 1\n",
      "[[1 2 3]\n",
      " [4 5 6]] 2\n",
      "[[[1 2 3]\n",
      "  [4 5 6]\n",
      "  [7 8 9]]] 3\n"
     ]
    }
   ],
   "source": [
    "import numpy as np\n",
    "\n",
    "a=np.array([1,2,3])\n",
    "b=np.array([[1,2,3],[4,5,6]])\n",
    "c=np.array([[1,2,3],[4,5,6],[7,8,9]],ndmin=3)\n",
    "print(a,a.ndim)\n",
    "print(b,b.ndim)\n",
    "print(c,c.ndim)\n"
   ]
  },
  {
   "cell_type": "code",
   "execution_count": 13,
   "id": "d952bc7b",
   "metadata": {},
   "outputs": [
    {
     "name": "stdout",
     "output_type": "stream",
     "text": [
      "[1 2 3 4 5 6 7 8 9]\n",
      "[0. 1. 2.]\n",
      "[ 0.  1.  2.  3.  4.  5.  6.  7.  8.  9. 10. 11. 12. 13. 14. 15. 16. 17.\n",
      " 18. 19.]\n",
      "[ 2  4  6  8 10 12 14 16 18]\n"
     ]
    }
   ],
   "source": [
    "'''\n",
    "Arange Function in Numpy\n",
    "'''\n",
    "d=np.arange(1,10) # Using Start and Stop value\n",
    "e=np.arange(3.0) # Using Stop value\n",
    "f=np.arange(20,dtype=\"float\") # Using stop value with datatype\n",
    "g=np.arange(2,20,2) #Using Step with Start and Stop Value.\n",
    "print(d)\n",
    "print(e)\n",
    "print(f)\n",
    "print(g)"
   ]
  },
  {
   "cell_type": "code",
   "execution_count": null,
   "id": "9f6cd460",
   "metadata": {},
   "outputs": [
    {
     "name": "stdout",
     "output_type": "stream",
     "text": [
      "[0. 0. 0. 0. 0.]\n",
      "[0 0 0 0 0 0 0 0 0 0]\n",
      "[[0. 0. 0.]\n",
      " [0. 0. 0.]]\n"
     ]
    }
   ],
   "source": [
    "'''\n",
    "Zeros Function\n",
    "'''\n",
    "num1=np.zeros(5) #One Dimensional Array\n",
    "num2=np.zeros(10, dtype=int) #One Dimension with dtype\n",
    "num3=np.zeros([2,3]) #Two Dimensional Array\n",
    "print(num1)\n",
    "print(num2)\n",
    "print(num3)"
   ]
  },
  {
   "cell_type": "code",
   "execution_count": 18,
   "id": "d0fba868",
   "metadata": {},
   "outputs": [
    {
     "name": "stdout",
     "output_type": "stream",
     "text": [
      "[1. 1. 1. 1. 1.]\n",
      "[1 1 1 1 1 1 1 1 1 1]\n",
      "[[1. 1.]]\n"
     ]
    }
   ],
   "source": [
    "'''\n",
    "Ones Function\n",
    "'''\n",
    "num4=np.ones(5)\n",
    "num5=np.ones(10,dtype=int)\n",
    "num6=np.ones([1,2])\n",
    "print(num4)\n",
    "print(num5)\n",
    "print(num6)"
   ]
  },
  {
   "cell_type": "code",
   "execution_count": 22,
   "id": "54532e50",
   "metadata": {},
   "outputs": [
    {
     "name": "stdout",
     "output_type": "stream",
     "text": [
      "[3.47739835e-081 6.64024228e-321 0.00000000e+000 1.01306022e-311\n",
      " 0.00000000e+000 3.25060610e-319 6.95174042e-310]\n",
      "[      2050536304488                  36                   0\n",
      "                   0                   0 3762306900297343330\n",
      " 3761681287528984877 3258693204281472825 3559588877022935350\n",
      "          1714971442]\n"
     ]
    }
   ],
   "source": [
    "'''\n",
    "Empty Function\n",
    "'''\n",
    "num8=np.empty(7)\n",
    "num9=np.empty(10,dtype=int)\n",
    "print(num8)\n",
    "print(num9)"
   ]
  },
  {
   "cell_type": "code",
   "execution_count": 29,
   "id": "952e1217",
   "metadata": {},
   "outputs": [
    {
     "name": "stdout",
     "output_type": "stream",
     "text": [
      "[  1.    25.75  50.5   75.25 100.  ]\n",
      "[ 1.  20.8 40.6 60.4 80.2]\n",
      "(array([  1.  ,  25.75,  50.5 ,  75.25, 100.  ]), np.float64(24.75))\n",
      "[  1  25  50  75 100]\n"
     ]
    }
   ],
   "source": [
    "'''\n",
    "Linspace Function......\n",
    "'''\n",
    "num10=np.linspace(1,100,num=5)\n",
    "num11=np.linspace(1,100,num=5,endpoint=False)\n",
    "num12=np.linspace(1,100,num=5,retstep=True)\n",
    "num13=np.linspace(1,100,num=5,dtype=int)\n",
    "print(num10)\n",
    "print(num11)\n",
    "print(num12)\n",
    "print(num13)"
   ]
  },
  {
   "cell_type": "code",
   "execution_count": 31,
   "id": "974debf7",
   "metadata": {},
   "outputs": [
    {
     "name": "stdout",
     "output_type": "stream",
     "text": [
      "[0.99892266 0.8904206  0.26239212 0.93970553 0.953858  ]\n",
      "[[0.50436893 0.45756831]\n",
      " [0.38497082 0.36615147]\n",
      " [0.54453416 0.81470766]]\n"
     ]
    }
   ],
   "source": [
    "num14=np.random.rand(5)\n",
    "num15=np.random.rand(3,2)\n",
    "print(num14)\n",
    "print(num15)"
   ]
  },
  {
   "cell_type": "code",
   "execution_count": 32,
   "id": "fecb2585",
   "metadata": {},
   "outputs": [
    {
     "data": {
      "text/plain": [
       "array([ 0.57229725,  0.57641398, -0.30518084])"
      ]
     },
     "execution_count": 32,
     "metadata": {},
     "output_type": "execute_result"
    }
   ],
   "source": [
    "np.random.randn(3)"
   ]
  },
  {
   "cell_type": "code",
   "execution_count": 33,
   "id": "5a6d8a5e",
   "metadata": {},
   "outputs": [
    {
     "data": {
      "text/plain": [
       "array([0.56881918, 0.07766312, 0.94633997, 0.78943502, 0.9812138 ])"
      ]
     },
     "execution_count": 33,
     "metadata": {},
     "output_type": "execute_result"
    }
   ],
   "source": [
    "np.random.ranf(5)"
   ]
  },
  {
   "cell_type": "code",
   "execution_count": 35,
   "id": "9dfeefca",
   "metadata": {},
   "outputs": [
    {
     "data": {
      "text/plain": [
       "array([3, 1, 4, 3, 0, 1, 0, 2, 3, 0], dtype=int32)"
      ]
     },
     "execution_count": 35,
     "metadata": {},
     "output_type": "execute_result"
    }
   ],
   "source": [
    "np.random.randint(5,size=10)"
   ]
  },
  {
   "cell_type": "code",
   "execution_count": 38,
   "id": "01f03880",
   "metadata": {},
   "outputs": [
    {
     "data": {
      "text/plain": [
       "array([[2, 2],\n",
       "       [2, 1],\n",
       "       [0, 1],\n",
       "       [0, 0]], dtype=int32)"
      ]
     },
     "execution_count": 38,
     "metadata": {},
     "output_type": "execute_result"
    }
   ],
   "source": [
    "np.random.randint(3,size=(4,2))"
   ]
  }
 ],
 "metadata": {
  "kernelspec": {
   "display_name": "Python 3",
   "language": "python",
   "name": "python3"
  },
  "language_info": {
   "codemirror_mode": {
    "name": "ipython",
    "version": 3
   },
   "file_extension": ".py",
   "mimetype": "text/x-python",
   "name": "python",
   "nbconvert_exporter": "python",
   "pygments_lexer": "ipython3",
   "version": "3.14.0"
  }
 },
 "nbformat": 4,
 "nbformat_minor": 5
}
